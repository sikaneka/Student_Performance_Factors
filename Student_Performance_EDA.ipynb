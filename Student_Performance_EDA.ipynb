{
  "cells": [
    {
      "cell_type": "markdown",
      "metadata": {
        "id": "9hyfZsUKjeuw"
      },
      "source": [
        "\n",
        "\n",
        "Description\n",
        "This dataset provides a comprehensive overview of various factors affecting student performance in exams. It includes information on study habits, attendance, parental involvement, and other aspects influencing academic success.\n",
        "\n",
        "dataset: https://www.kaggle.com/datasets/lainguyn123/student-performance-factors\n",
        "\n",
        "Hours_Studied:\tNumber of hours spent studying per week.\n",
        "\n",
        "Attendance:\tPercentage of classes attended.\n",
        "\n",
        "Parental_Involvement:\tLevel of parental involvement in the student's education (Low, Medium, High).\n",
        "\n",
        "Access_to_Resources\t:Availability of educational resources (Low, Medium, High).\n",
        "\n",
        "Extracurricular_Activities:\tParticipation in extracurricular activities (Yes, No).\n",
        "\n",
        "Sleep_Hours:\tAverage number of hours of sleep per night.\n",
        "\n",
        "Previous_Scores:\tScores from previous exams.\n",
        "\n",
        "Motivation_Level:\tStudent's level of motivation (Low, Medium, High).\n",
        "\n",
        "Internet_Access:\tAvailability of internet access (Yes, No).\n",
        "\n",
        "Tutoring_Sessions:\tNumber of tutoring sessions attended per month.\n",
        "\n",
        "Family_Income:\tFamily income level (Low, Medium, High).\n",
        "\n",
        "Teacher_Quality:\tQuality of the teachers (Low, Medium, High).\n",
        "\n",
        "School_Type:\tType of school attended (Public, Private).\n",
        "\n",
        "Peer_Influence:\tInfluence of peers on academic performance (Positive, Neutral, Negative).\n",
        "\n",
        "Physical_Activity: Average number of hours of physical activity per week.\n",
        "\n",
        "Learning_Disabilities:\tPresence of learning disabilities (Yes, No).\n",
        "\n",
        "Parental_Education_Level:\tHighest education level of parents (High School, College, Postgraduate).\n",
        "\n",
        "Distance_from_Home:\tDistance from home to school (Near, Moderate, Far).\n",
        "\n",
        "Gender:\tGender of the student (Male, Female).\n",
        "\n",
        "Exam_Score:\tFinal exam score.\n",
        "\n"
      ]
    },
    {
      "cell_type": "code",
      "execution_count": 245,
      "metadata": {
        "id": "w1kbhg0zKN2C"
      },
      "outputs": [],
      "source": [
        "import numpy as np\n",
        "import pandas as pd\n",
        "import seaborn as sns\n",
        "import matplotlib.pyplot as plt\n",
        "import warnings\n",
        "warnings.filterwarnings(\"ignore\")"
      ]
    },
    {
      "cell_type": "code",
      "execution_count": 246,
      "metadata": {
        "id": "IMBr94DbKz-I"
      },
      "outputs": [],
      "source": [
        "df=pd.read_csv(\"StudentPerformanceFactors.csv\")"
      ]
    },
    {
      "cell_type": "markdown",
      "metadata": {
        "id": "thUxOuVL-sOu"
      },
      "source": [
        "# STEP-1 UNDERSTANDING DATA"
      ]
    },
    {
      "cell_type": "code",
      "execution_count": 247,
      "metadata": {
        "colab": {
          "base_uri": "https://localhost:8080/",
          "height": 351
        },
        "id": "1RAq67B16zhe",
        "outputId": "5644397d-88d3-4a50-f1d3-b77a842fa04b"
      },
      "outputs": [
        {
          "data": {
            "text/html": [
              "<div>\n",
              "<style scoped>\n",
              "    .dataframe tbody tr th:only-of-type {\n",
              "        vertical-align: middle;\n",
              "    }\n",
              "\n",
              "    .dataframe tbody tr th {\n",
              "        vertical-align: top;\n",
              "    }\n",
              "\n",
              "    .dataframe thead th {\n",
              "        text-align: right;\n",
              "    }\n",
              "</style>\n",
              "<table border=\"1\" class=\"dataframe\">\n",
              "  <thead>\n",
              "    <tr style=\"text-align: right;\">\n",
              "      <th></th>\n",
              "      <th>Hours_Studied</th>\n",
              "      <th>Attendance</th>\n",
              "      <th>Parental_Involvement</th>\n",
              "      <th>Access_to_Resources</th>\n",
              "      <th>Extracurricular_Activities</th>\n",
              "      <th>Sleep_Hours</th>\n",
              "      <th>Previous_Scores</th>\n",
              "      <th>Motivation_Level</th>\n",
              "      <th>Internet_Access</th>\n",
              "      <th>Tutoring_Sessions</th>\n",
              "      <th>Family_Income</th>\n",
              "      <th>Teacher_Quality</th>\n",
              "      <th>School_Type</th>\n",
              "      <th>Peer_Influence</th>\n",
              "      <th>Physical_Activity</th>\n",
              "      <th>Learning_Disabilities</th>\n",
              "      <th>Parental_Education_Level</th>\n",
              "      <th>Distance_from_Home</th>\n",
              "      <th>Gender</th>\n",
              "      <th>Exam_Score</th>\n",
              "    </tr>\n",
              "  </thead>\n",
              "  <tbody>\n",
              "    <tr>\n",
              "      <th>0</th>\n",
              "      <td>23</td>\n",
              "      <td>84</td>\n",
              "      <td>Low</td>\n",
              "      <td>High</td>\n",
              "      <td>No</td>\n",
              "      <td>7</td>\n",
              "      <td>73</td>\n",
              "      <td>Low</td>\n",
              "      <td>Yes</td>\n",
              "      <td>0</td>\n",
              "      <td>Low</td>\n",
              "      <td>Medium</td>\n",
              "      <td>Public</td>\n",
              "      <td>Positive</td>\n",
              "      <td>3</td>\n",
              "      <td>No</td>\n",
              "      <td>High School</td>\n",
              "      <td>Near</td>\n",
              "      <td>Male</td>\n",
              "      <td>67</td>\n",
              "    </tr>\n",
              "    <tr>\n",
              "      <th>1</th>\n",
              "      <td>19</td>\n",
              "      <td>64</td>\n",
              "      <td>Low</td>\n",
              "      <td>Medium</td>\n",
              "      <td>No</td>\n",
              "      <td>8</td>\n",
              "      <td>59</td>\n",
              "      <td>Low</td>\n",
              "      <td>Yes</td>\n",
              "      <td>2</td>\n",
              "      <td>Medium</td>\n",
              "      <td>Medium</td>\n",
              "      <td>Public</td>\n",
              "      <td>Negative</td>\n",
              "      <td>4</td>\n",
              "      <td>No</td>\n",
              "      <td>College</td>\n",
              "      <td>Moderate</td>\n",
              "      <td>Female</td>\n",
              "      <td>61</td>\n",
              "    </tr>\n",
              "    <tr>\n",
              "      <th>2</th>\n",
              "      <td>24</td>\n",
              "      <td>98</td>\n",
              "      <td>Medium</td>\n",
              "      <td>Medium</td>\n",
              "      <td>Yes</td>\n",
              "      <td>7</td>\n",
              "      <td>91</td>\n",
              "      <td>Medium</td>\n",
              "      <td>Yes</td>\n",
              "      <td>2</td>\n",
              "      <td>Medium</td>\n",
              "      <td>Medium</td>\n",
              "      <td>Public</td>\n",
              "      <td>Neutral</td>\n",
              "      <td>4</td>\n",
              "      <td>No</td>\n",
              "      <td>Postgraduate</td>\n",
              "      <td>Near</td>\n",
              "      <td>Male</td>\n",
              "      <td>74</td>\n",
              "    </tr>\n",
              "    <tr>\n",
              "      <th>3</th>\n",
              "      <td>29</td>\n",
              "      <td>89</td>\n",
              "      <td>Low</td>\n",
              "      <td>Medium</td>\n",
              "      <td>Yes</td>\n",
              "      <td>8</td>\n",
              "      <td>98</td>\n",
              "      <td>Medium</td>\n",
              "      <td>Yes</td>\n",
              "      <td>1</td>\n",
              "      <td>Medium</td>\n",
              "      <td>Medium</td>\n",
              "      <td>Public</td>\n",
              "      <td>Negative</td>\n",
              "      <td>4</td>\n",
              "      <td>No</td>\n",
              "      <td>High School</td>\n",
              "      <td>Moderate</td>\n",
              "      <td>Male</td>\n",
              "      <td>71</td>\n",
              "    </tr>\n",
              "    <tr>\n",
              "      <th>4</th>\n",
              "      <td>19</td>\n",
              "      <td>92</td>\n",
              "      <td>Medium</td>\n",
              "      <td>Medium</td>\n",
              "      <td>Yes</td>\n",
              "      <td>6</td>\n",
              "      <td>65</td>\n",
              "      <td>Medium</td>\n",
              "      <td>Yes</td>\n",
              "      <td>3</td>\n",
              "      <td>Medium</td>\n",
              "      <td>High</td>\n",
              "      <td>Public</td>\n",
              "      <td>Neutral</td>\n",
              "      <td>4</td>\n",
              "      <td>No</td>\n",
              "      <td>College</td>\n",
              "      <td>Near</td>\n",
              "      <td>Female</td>\n",
              "      <td>70</td>\n",
              "    </tr>\n",
              "  </tbody>\n",
              "</table>\n",
              "</div>"
            ],
            "text/plain": [
              "   Hours_Studied  Attendance Parental_Involvement Access_to_Resources  \\\n",
              "0             23          84                  Low                High   \n",
              "1             19          64                  Low              Medium   \n",
              "2             24          98               Medium              Medium   \n",
              "3             29          89                  Low              Medium   \n",
              "4             19          92               Medium              Medium   \n",
              "\n",
              "  Extracurricular_Activities  Sleep_Hours  Previous_Scores Motivation_Level  \\\n",
              "0                         No            7               73              Low   \n",
              "1                         No            8               59              Low   \n",
              "2                        Yes            7               91           Medium   \n",
              "3                        Yes            8               98           Medium   \n",
              "4                        Yes            6               65           Medium   \n",
              "\n",
              "  Internet_Access  Tutoring_Sessions Family_Income Teacher_Quality  \\\n",
              "0             Yes                  0           Low          Medium   \n",
              "1             Yes                  2        Medium          Medium   \n",
              "2             Yes                  2        Medium          Medium   \n",
              "3             Yes                  1        Medium          Medium   \n",
              "4             Yes                  3        Medium            High   \n",
              "\n",
              "  School_Type Peer_Influence  Physical_Activity Learning_Disabilities  \\\n",
              "0      Public       Positive                  3                    No   \n",
              "1      Public       Negative                  4                    No   \n",
              "2      Public        Neutral                  4                    No   \n",
              "3      Public       Negative                  4                    No   \n",
              "4      Public        Neutral                  4                    No   \n",
              "\n",
              "  Parental_Education_Level Distance_from_Home  Gender  Exam_Score  \n",
              "0              High School               Near    Male          67  \n",
              "1                  College           Moderate  Female          61  \n",
              "2             Postgraduate               Near    Male          74  \n",
              "3              High School           Moderate    Male          71  \n",
              "4                  College               Near  Female          70  "
            ]
          },
          "execution_count": 247,
          "metadata": {},
          "output_type": "execute_result"
        }
      ],
      "source": [
        "df.head()"
      ]
    },
    {
      "cell_type": "code",
      "execution_count": 248,
      "metadata": {
        "colab": {
          "base_uri": "https://localhost:8080/"
        },
        "id": "8wIOBi2LVkcJ",
        "outputId": "ccd89995-3579-47ce-db32-d461fbfed0da"
      },
      "outputs": [
        {
          "name": "stdout",
          "output_type": "stream",
          "text": [
            "<class 'pandas.core.frame.DataFrame'>\n"
          ]
        }
      ],
      "source": [
        "print(type(df))"
      ]
    },
    {
      "cell_type": "code",
      "execution_count": 249,
      "metadata": {
        "colab": {
          "base_uri": "https://localhost:8080/",
          "height": 226
        },
        "id": "pM_vY5EZLqZ9",
        "outputId": "626d0223-f3b1-49c4-c834-48d8a9960e29"
      },
      "outputs": [
        {
          "data": {
            "text/html": [
              "<div>\n",
              "<style scoped>\n",
              "    .dataframe tbody tr th:only-of-type {\n",
              "        vertical-align: middle;\n",
              "    }\n",
              "\n",
              "    .dataframe tbody tr th {\n",
              "        vertical-align: top;\n",
              "    }\n",
              "\n",
              "    .dataframe thead th {\n",
              "        text-align: right;\n",
              "    }\n",
              "</style>\n",
              "<table border=\"1\" class=\"dataframe\">\n",
              "  <thead>\n",
              "    <tr style=\"text-align: right;\">\n",
              "      <th></th>\n",
              "      <th>Hours_Studied</th>\n",
              "      <th>Attendance</th>\n",
              "      <th>Parental_Involvement</th>\n",
              "      <th>Access_to_Resources</th>\n",
              "      <th>Extracurricular_Activities</th>\n",
              "      <th>Sleep_Hours</th>\n",
              "      <th>Previous_Scores</th>\n",
              "      <th>Motivation_Level</th>\n",
              "      <th>Internet_Access</th>\n",
              "      <th>Tutoring_Sessions</th>\n",
              "      <th>Family_Income</th>\n",
              "      <th>Teacher_Quality</th>\n",
              "      <th>School_Type</th>\n",
              "      <th>Peer_Influence</th>\n",
              "      <th>Physical_Activity</th>\n",
              "      <th>Learning_Disabilities</th>\n",
              "      <th>Parental_Education_Level</th>\n",
              "      <th>Distance_from_Home</th>\n",
              "      <th>Gender</th>\n",
              "      <th>Exam_Score</th>\n",
              "    </tr>\n",
              "  </thead>\n",
              "  <tbody>\n",
              "    <tr>\n",
              "      <th>6602</th>\n",
              "      <td>25</td>\n",
              "      <td>69</td>\n",
              "      <td>High</td>\n",
              "      <td>Medium</td>\n",
              "      <td>No</td>\n",
              "      <td>7</td>\n",
              "      <td>76</td>\n",
              "      <td>Medium</td>\n",
              "      <td>Yes</td>\n",
              "      <td>1</td>\n",
              "      <td>High</td>\n",
              "      <td>Medium</td>\n",
              "      <td>Public</td>\n",
              "      <td>Positive</td>\n",
              "      <td>2</td>\n",
              "      <td>No</td>\n",
              "      <td>High School</td>\n",
              "      <td>Near</td>\n",
              "      <td>Female</td>\n",
              "      <td>68</td>\n",
              "    </tr>\n",
              "    <tr>\n",
              "      <th>6603</th>\n",
              "      <td>23</td>\n",
              "      <td>76</td>\n",
              "      <td>High</td>\n",
              "      <td>Medium</td>\n",
              "      <td>No</td>\n",
              "      <td>8</td>\n",
              "      <td>81</td>\n",
              "      <td>Medium</td>\n",
              "      <td>Yes</td>\n",
              "      <td>3</td>\n",
              "      <td>Low</td>\n",
              "      <td>High</td>\n",
              "      <td>Public</td>\n",
              "      <td>Positive</td>\n",
              "      <td>2</td>\n",
              "      <td>No</td>\n",
              "      <td>High School</td>\n",
              "      <td>Near</td>\n",
              "      <td>Female</td>\n",
              "      <td>69</td>\n",
              "    </tr>\n",
              "    <tr>\n",
              "      <th>6604</th>\n",
              "      <td>20</td>\n",
              "      <td>90</td>\n",
              "      <td>Medium</td>\n",
              "      <td>Low</td>\n",
              "      <td>Yes</td>\n",
              "      <td>6</td>\n",
              "      <td>65</td>\n",
              "      <td>Low</td>\n",
              "      <td>Yes</td>\n",
              "      <td>3</td>\n",
              "      <td>Low</td>\n",
              "      <td>Medium</td>\n",
              "      <td>Public</td>\n",
              "      <td>Negative</td>\n",
              "      <td>2</td>\n",
              "      <td>No</td>\n",
              "      <td>Postgraduate</td>\n",
              "      <td>Near</td>\n",
              "      <td>Female</td>\n",
              "      <td>68</td>\n",
              "    </tr>\n",
              "    <tr>\n",
              "      <th>6605</th>\n",
              "      <td>10</td>\n",
              "      <td>86</td>\n",
              "      <td>High</td>\n",
              "      <td>High</td>\n",
              "      <td>Yes</td>\n",
              "      <td>6</td>\n",
              "      <td>91</td>\n",
              "      <td>High</td>\n",
              "      <td>Yes</td>\n",
              "      <td>2</td>\n",
              "      <td>Low</td>\n",
              "      <td>Medium</td>\n",
              "      <td>Private</td>\n",
              "      <td>Positive</td>\n",
              "      <td>3</td>\n",
              "      <td>No</td>\n",
              "      <td>High School</td>\n",
              "      <td>Far</td>\n",
              "      <td>Female</td>\n",
              "      <td>68</td>\n",
              "    </tr>\n",
              "    <tr>\n",
              "      <th>6606</th>\n",
              "      <td>15</td>\n",
              "      <td>67</td>\n",
              "      <td>Medium</td>\n",
              "      <td>Low</td>\n",
              "      <td>Yes</td>\n",
              "      <td>9</td>\n",
              "      <td>94</td>\n",
              "      <td>Medium</td>\n",
              "      <td>Yes</td>\n",
              "      <td>0</td>\n",
              "      <td>Medium</td>\n",
              "      <td>Medium</td>\n",
              "      <td>Public</td>\n",
              "      <td>Positive</td>\n",
              "      <td>4</td>\n",
              "      <td>No</td>\n",
              "      <td>Postgraduate</td>\n",
              "      <td>Near</td>\n",
              "      <td>Male</td>\n",
              "      <td>64</td>\n",
              "    </tr>\n",
              "  </tbody>\n",
              "</table>\n",
              "</div>"
            ],
            "text/plain": [
              "      Hours_Studied  Attendance Parental_Involvement Access_to_Resources  \\\n",
              "6602             25          69                 High              Medium   \n",
              "6603             23          76                 High              Medium   \n",
              "6604             20          90               Medium                 Low   \n",
              "6605             10          86                 High                High   \n",
              "6606             15          67               Medium                 Low   \n",
              "\n",
              "     Extracurricular_Activities  Sleep_Hours  Previous_Scores  \\\n",
              "6602                         No            7               76   \n",
              "6603                         No            8               81   \n",
              "6604                        Yes            6               65   \n",
              "6605                        Yes            6               91   \n",
              "6606                        Yes            9               94   \n",
              "\n",
              "     Motivation_Level Internet_Access  Tutoring_Sessions Family_Income  \\\n",
              "6602           Medium             Yes                  1          High   \n",
              "6603           Medium             Yes                  3           Low   \n",
              "6604              Low             Yes                  3           Low   \n",
              "6605             High             Yes                  2           Low   \n",
              "6606           Medium             Yes                  0        Medium   \n",
              "\n",
              "     Teacher_Quality School_Type Peer_Influence  Physical_Activity  \\\n",
              "6602          Medium      Public       Positive                  2   \n",
              "6603            High      Public       Positive                  2   \n",
              "6604          Medium      Public       Negative                  2   \n",
              "6605          Medium     Private       Positive                  3   \n",
              "6606          Medium      Public       Positive                  4   \n",
              "\n",
              "     Learning_Disabilities Parental_Education_Level Distance_from_Home  \\\n",
              "6602                    No              High School               Near   \n",
              "6603                    No              High School               Near   \n",
              "6604                    No             Postgraduate               Near   \n",
              "6605                    No              High School                Far   \n",
              "6606                    No             Postgraduate               Near   \n",
              "\n",
              "      Gender  Exam_Score  \n",
              "6602  Female          68  \n",
              "6603  Female          69  \n",
              "6604  Female          68  \n",
              "6605  Female          68  \n",
              "6606    Male          64  "
            ]
          },
          "execution_count": 249,
          "metadata": {},
          "output_type": "execute_result"
        }
      ],
      "source": [
        "df.tail()"
      ]
    },
    {
      "cell_type": "code",
      "execution_count": 250,
      "metadata": {
        "colab": {
          "base_uri": "https://localhost:8080/",
          "height": 383
        },
        "id": "fkr7ed9LLs2_",
        "outputId": "9d967905-548a-420b-f605-d0d505e79f4f"
      },
      "outputs": [
        {
          "data": {
            "text/html": [
              "<div>\n",
              "<style scoped>\n",
              "    .dataframe tbody tr th:only-of-type {\n",
              "        vertical-align: middle;\n",
              "    }\n",
              "\n",
              "    .dataframe tbody tr th {\n",
              "        vertical-align: top;\n",
              "    }\n",
              "\n",
              "    .dataframe thead th {\n",
              "        text-align: right;\n",
              "    }\n",
              "</style>\n",
              "<table border=\"1\" class=\"dataframe\">\n",
              "  <thead>\n",
              "    <tr style=\"text-align: right;\">\n",
              "      <th></th>\n",
              "      <th>Hours_Studied</th>\n",
              "      <th>Attendance</th>\n",
              "      <th>Parental_Involvement</th>\n",
              "      <th>Access_to_Resources</th>\n",
              "      <th>Extracurricular_Activities</th>\n",
              "      <th>Sleep_Hours</th>\n",
              "      <th>Previous_Scores</th>\n",
              "      <th>Motivation_Level</th>\n",
              "      <th>Internet_Access</th>\n",
              "      <th>Tutoring_Sessions</th>\n",
              "      <th>Family_Income</th>\n",
              "      <th>Teacher_Quality</th>\n",
              "      <th>School_Type</th>\n",
              "      <th>Peer_Influence</th>\n",
              "      <th>Physical_Activity</th>\n",
              "      <th>Learning_Disabilities</th>\n",
              "      <th>Parental_Education_Level</th>\n",
              "      <th>Distance_from_Home</th>\n",
              "      <th>Gender</th>\n",
              "      <th>Exam_Score</th>\n",
              "    </tr>\n",
              "  </thead>\n",
              "  <tbody>\n",
              "    <tr>\n",
              "      <th>506</th>\n",
              "      <td>16</td>\n",
              "      <td>73</td>\n",
              "      <td>High</td>\n",
              "      <td>Medium</td>\n",
              "      <td>Yes</td>\n",
              "      <td>8</td>\n",
              "      <td>52</td>\n",
              "      <td>Medium</td>\n",
              "      <td>Yes</td>\n",
              "      <td>2</td>\n",
              "      <td>Medium</td>\n",
              "      <td>High</td>\n",
              "      <td>Public</td>\n",
              "      <td>Positive</td>\n",
              "      <td>4</td>\n",
              "      <td>No</td>\n",
              "      <td>College</td>\n",
              "      <td>Near</td>\n",
              "      <td>Female</td>\n",
              "      <td>66</td>\n",
              "    </tr>\n",
              "  </tbody>\n",
              "</table>\n",
              "</div>"
            ],
            "text/plain": [
              "     Hours_Studied  Attendance Parental_Involvement Access_to_Resources  \\\n",
              "506             16          73                 High              Medium   \n",
              "\n",
              "    Extracurricular_Activities  Sleep_Hours  Previous_Scores Motivation_Level  \\\n",
              "506                        Yes            8               52           Medium   \n",
              "\n",
              "    Internet_Access  Tutoring_Sessions Family_Income Teacher_Quality  \\\n",
              "506             Yes                  2        Medium            High   \n",
              "\n",
              "    School_Type Peer_Influence  Physical_Activity Learning_Disabilities  \\\n",
              "506      Public       Positive                  4                    No   \n",
              "\n",
              "    Parental_Education_Level Distance_from_Home  Gender  Exam_Score  \n",
              "506                  College               Near  Female          66  "
            ]
          },
          "execution_count": 250,
          "metadata": {},
          "output_type": "execute_result"
        }
      ],
      "source": [
        "df.sample()"
      ]
    },
    {
      "cell_type": "code",
      "execution_count": 251,
      "metadata": {
        "colab": {
          "base_uri": "https://localhost:8080/"
        },
        "id": "3GZa1KSSMjYS",
        "outputId": "d3375a77-be9f-4618-f82b-c1e9391c9907"
      },
      "outputs": [
        {
          "name": "stdout",
          "output_type": "stream",
          "text": [
            "Number of rows: 6607 Number of columns: 20\n"
          ]
        }
      ],
      "source": [
        "#shape of dataset\n",
        "print(\"Number of rows:\",df.shape[0],\"Number of columns:\",df.shape[1])\n"
      ]
    },
    {
      "cell_type": "code",
      "execution_count": 252,
      "metadata": {
        "colab": {
          "base_uri": "https://localhost:8080/"
        },
        "id": "Q2jQ7UXeMzMi",
        "outputId": "1d8f0640-aa0d-4c54-91f3-ed0d4efd9312"
      },
      "outputs": [
        {
          "name": "stdout",
          "output_type": "stream",
          "text": [
            "<class 'pandas.core.frame.DataFrame'>\n",
            "RangeIndex: 6607 entries, 0 to 6606\n",
            "Data columns (total 20 columns):\n",
            " #   Column                      Non-Null Count  Dtype \n",
            "---  ------                      --------------  ----- \n",
            " 0   Hours_Studied               6607 non-null   int64 \n",
            " 1   Attendance                  6607 non-null   int64 \n",
            " 2   Parental_Involvement        6607 non-null   object\n",
            " 3   Access_to_Resources         6607 non-null   object\n",
            " 4   Extracurricular_Activities  6607 non-null   object\n",
            " 5   Sleep_Hours                 6607 non-null   int64 \n",
            " 6   Previous_Scores             6607 non-null   int64 \n",
            " 7   Motivation_Level            6607 non-null   object\n",
            " 8   Internet_Access             6607 non-null   object\n",
            " 9   Tutoring_Sessions           6607 non-null   int64 \n",
            " 10  Family_Income               6607 non-null   object\n",
            " 11  Teacher_Quality             6529 non-null   object\n",
            " 12  School_Type                 6607 non-null   object\n",
            " 13  Peer_Influence              6607 non-null   object\n",
            " 14  Physical_Activity           6607 non-null   int64 \n",
            " 15  Learning_Disabilities       6607 non-null   object\n",
            " 16  Parental_Education_Level    6517 non-null   object\n",
            " 17  Distance_from_Home          6540 non-null   object\n",
            " 18  Gender                      6607 non-null   object\n",
            " 19  Exam_Score                  6607 non-null   int64 \n",
            "dtypes: int64(7), object(13)\n",
            "memory usage: 1.0+ MB\n",
            "None\n"
          ]
        }
      ],
      "source": [
        "print(df.info())"
      ]
    },
    {
      "cell_type": "code",
      "execution_count": 253,
      "metadata": {
        "colab": {
          "base_uri": "https://localhost:8080/"
        },
        "id": "th1HfusgyIax",
        "outputId": "2925c4b9-2713-45cc-c522-ee1fbc1aa95f"
      },
      "outputs": [
        {
          "name": "stdout",
          "output_type": "stream",
          "text": [
            "['Parental_Involvement', 'Access_to_Resources', 'Extracurricular_Activities', 'Motivation_Level', 'Internet_Access', 'Family_Income', 'Teacher_Quality', 'School_Type', 'Peer_Influence', 'Learning_Disabilities', 'Parental_Education_Level', 'Distance_from_Home', 'Gender']\n"
          ]
        }
      ],
      "source": [
        "cat_col=[col for col in df.columns if df[col].dtype==\"object\"]\n",
        "print(cat_col)"
      ]
    },
    {
      "cell_type": "markdown",
      "metadata": {
        "id": "fIjDtUyWNJeq"
      },
      "source": [
        "# **STEP-2 Data cleaning**"
      ]
    },
    {
      "cell_type": "code",
      "execution_count": 254,
      "metadata": {
        "colab": {
          "base_uri": "https://localhost:8080/"
        },
        "id": "-QkjIcApHfF2",
        "outputId": "4481c26f-aa98-4abe-fc67-69c1cb424532"
      },
      "outputs": [
        {
          "data": {
            "text/plain": [
              "Index([], dtype='object')"
            ]
          },
          "execution_count": 254,
          "metadata": {},
          "output_type": "execute_result"
        }
      ],
      "source": [
        "df.columns[df.isnull().all()]"
      ]
    },
    {
      "cell_type": "code",
      "execution_count": 255,
      "metadata": {
        "colab": {
          "base_uri": "https://localhost:8080/"
        },
        "id": "CY4aJitENGZG",
        "outputId": "8b3a9393-baa3-481d-8609-0690eea8b03c"
      },
      "outputs": [
        {
          "name": "stdout",
          "output_type": "stream",
          "text": [
            "Teacher_Quality             78\n",
            "Parental_Education_Level    90\n",
            "Distance_from_Home          67\n",
            "dtype: int64\n"
          ]
        }
      ],
      "source": [
        "missing_values=df.isnull().sum()\n",
        "missing_values\n",
        "print(missing_values[missing_values>0])"
      ]
    },
    {
      "cell_type": "code",
      "execution_count": 256,
      "metadata": {
        "colab": {
          "base_uri": "https://localhost:8080/"
        },
        "id": "HM4K7G6JvdqL",
        "outputId": "264906a1-7a7d-4bcb-ec98-100d635af10b"
      },
      "outputs": [
        {
          "data": {
            "text/plain": [
              "1.362191614953837"
            ]
          },
          "execution_count": 256,
          "metadata": {},
          "output_type": "execute_result"
        }
      ],
      "source": [
        "(90/6607)*100"
      ]
    },
    {
      "cell_type": "code",
      "execution_count": 257,
      "metadata": {
        "colab": {
          "base_uri": "https://localhost:8080/",
          "height": 615
        },
        "id": "XwYlXoaWsaUn",
        "outputId": "157de2d1-f7fe-4266-b396-1430bdb7c177"
      },
      "outputs": [
        {
          "data": {
            "image/png": "[encoded data removed]",
            "text/plain": [
              "<Figure size 640x480 with 1 Axes>"
            ]
          },
          "metadata": {},
          "output_type": "display_data"
        }
      ],
      "source": [
        "sns.heatmap(df.isnull(), cmap='viridis', cbar=False)\n",
        "plt.title('Missing Values Heatmap')\n",
        "plt.show()"
      ]
    },
    {
      "cell_type": "code",
      "execution_count": 258,
      "metadata": {
        "colab": {
          "base_uri": "https://localhost:8080/",
          "height": 209
        },
        "id": "6_tYY-ek8ZTS",
        "outputId": "ac696442-af30-41f3-e8d1-e3105ca67794"
      },
      "outputs": [
        {
          "data": {
            "text/plain": [
              "Parental_Education_Level\n",
              "High School     3223\n",
              "College         1989\n",
              "Postgraduate    1305\n",
              "Name: count, dtype: int64"
            ]
          },
          "execution_count": 258,
          "metadata": {},
          "output_type": "execute_result"
        }
      ],
      "source": [
        "df['Parental_Education_Level'].value_counts()"
      ]
    },
    {
      "cell_type": "code",
      "execution_count": 259,
      "metadata": {},
      "outputs": [],
      "source": [
        "df.dropna(subset=['Teacher_Quality','Parental_Education_Level','Distance_from_Home'],inplace=True)"
      ]
    },
    {
      "cell_type": "code",
      "execution_count": 260,
      "metadata": {
        "colab": {
          "base_uri": "https://localhost:8080/"
        },
        "id": "a9oGLCCxHnPY",
        "outputId": "812c6bb8-c440-478c-b554-3d1f230f222f"
      },
      "outputs": [
        {
          "name": "stdout",
          "output_type": "stream",
          "text": [
            "Series([], dtype: int64)\n"
          ]
        }
      ],
      "source": [
        "missing_values=df.isnull().sum()\n",
        "print(missing_values[missing_values>0])"
      ]
    },
    {
      "cell_type": "code",
      "execution_count": 261,
      "metadata": {
        "colab": {
          "base_uri": "https://localhost:8080/"
        },
        "id": "q7N6Bk2QRGb9",
        "outputId": "0180a849-2e34-44c1-a4db-2d2b200efc93"
      },
      "outputs": [
        {
          "name": "stdout",
          "output_type": "stream",
          "text": [
            "[]\n"
          ]
        }
      ],
      "source": [
        "duplicate=df.duplicated().sum()\n",
        "print(duplicate[duplicate>0])\n"
      ]
    },
    {
      "cell_type": "code",
      "execution_count": 262,
      "metadata": {},
      "outputs": [
        {
          "name": "stdout",
          "output_type": "stream",
          "text": [
            "The maximum exam_score is 101\n",
            "the number of persons with the maximum score is 1\n"
          ]
        }
      ],
      "source": [
        "import numpy as np\n",
        "max_score=np.max(df['Exam_Score'])\n",
        "print('The maximum exam_score is',max_score)\n",
        "count=0\n",
        "for i in df['Exam_Score']:\n",
        "    if i>100:\n",
        "        count=count+1\n",
        "    else:\n",
        "        pass\n",
        "print('the number of persons with the maximum score is', count)"
      ]
    },
    {
      "cell_type": "code",
      "execution_count": 263,
      "metadata": {},
      "outputs": [
        {
          "name": "stdout",
          "output_type": "stream",
          "text": [
            "the value  101 is at Index([1525], dtype='int64')\n"
          ]
        }
      ],
      "source": [
        "# here the maximum score is taken as 100, so the value 101 can be replace by value 100\n",
        "ind=df[df['Exam_Score']>100].index\n",
        "print('the value ',max_score,'is at',ind)\n",
        "\n",
        "df.loc[ind,'Exam_Score']=100\n"
      ]
    },
    {
      "cell_type": "code",
      "execution_count": 264,
      "metadata": {
        "colab": {
          "base_uri": "https://localhost:8080/"
        },
        "id": "NP26C0DxRaAt",
        "outputId": "de8a0a0b-c892-43ef-b4d4-e1c140e5a2d1"
      },
      "outputs": [
        {
          "name": "stdout",
          "output_type": "stream",
          "text": [
            "<class 'pandas.core.frame.DataFrame'>\n",
            "Index: 6378 entries, 0 to 6606\n",
            "Data columns (total 20 columns):\n",
            " #   Column                      Non-Null Count  Dtype \n",
            "---  ------                      --------------  ----- \n",
            " 0   Hours_Studied               6378 non-null   int64 \n",
            " 1   Attendance                  6378 non-null   int64 \n",
            " 2   Parental_Involvement        6378 non-null   object\n",
            " 3   Access_to_Resources         6378 non-null   object\n",
            " 4   Extracurricular_Activities  6378 non-null   object\n",
            " 5   Sleep_Hours                 6378 non-null   int64 \n",
            " 6   Previous_Scores             6378 non-null   int64 \n",
            " 7   Motivation_Level            6378 non-null   object\n",
            " 8   Internet_Access             6378 non-null   object\n",
            " 9   Tutoring_Sessions           6378 non-null   int64 \n",
            " 10  Family_Income               6378 non-null   object\n",
            " 11  Teacher_Quality             6378 non-null   object\n",
            " 12  School_Type                 6378 non-null   object\n",
            " 13  Peer_Influence              6378 non-null   object\n",
            " 14  Physical_Activity           6378 non-null   int64 \n",
            " 15  Learning_Disabilities       6378 non-null   object\n",
            " 16  Parental_Education_Level    6378 non-null   object\n",
            " 17  Distance_from_Home          6378 non-null   object\n",
            " 18  Gender                      6378 non-null   object\n",
            " 19  Exam_Score                  6378 non-null   int64 \n",
            "dtypes: int64(7), object(13)\n",
            "memory usage: 1.3+ MB\n"
          ]
        }
      ],
      "source": [
        "df.info()"
      ]
    },
    {
      "cell_type": "code",
      "execution_count": 265,
      "metadata": {
        "colab": {
          "base_uri": "https://localhost:8080/"
        },
        "id": "TYEkny-fmjUS",
        "outputId": "19b28e5f-bbac-4707-8ceb-d55b062b6645"
      },
      "outputs": [
        {
          "name": "stdout",
          "output_type": "stream",
          "text": [
            "       Hours_Studied   Attendance  Sleep_Hours  Previous_Scores  \\\n",
            "count    6378.000000  6378.000000  6378.000000      6378.000000   \n",
            "mean       19.977109    80.020853     7.034964        75.066165   \n",
            "std         5.985460    11.550723     1.468033        14.400389   \n",
            "min         1.000000    60.000000     4.000000        50.000000   \n",
            "25%        16.000000    70.000000     6.000000        63.000000   \n",
            "50%        20.000000    80.000000     7.000000        75.000000   \n",
            "75%        24.000000    90.000000     8.000000        88.000000   \n",
            "max        44.000000   100.000000    10.000000       100.000000   \n",
            "\n",
            "       Tutoring_Sessions  Physical_Activity   Exam_Score  \n",
            "count        6378.000000        6378.000000  6378.000000  \n",
            "mean            1.495296           2.972719    67.251960  \n",
            "std             1.233984           1.028926     3.912884  \n",
            "min             0.000000           0.000000    55.000000  \n",
            "25%             1.000000           2.000000    65.000000  \n",
            "50%             1.000000           3.000000    67.000000  \n",
            "75%             2.000000           4.000000    69.000000  \n",
            "max             8.000000           6.000000   100.000000  \n"
          ]
        }
      ],
      "source": [
        "# Summary statistics for numerical columns\n",
        "print(df.describe())"
      ]
    },
    {
      "cell_type": "code",
      "execution_count": 266,
      "metadata": {
        "colab": {
          "base_uri": "https://localhost:8080/"
        },
        "id": "_Zi6JhbvxdBj",
        "outputId": "d19bdd96-a726-40f2-be10-b14766e87470"
      },
      "outputs": [
        {
          "name": "stdout",
          "output_type": "stream",
          "text": [
            "       Parental_Involvement Access_to_Resources Extracurricular_Activities  \\\n",
            "count                  6378                6378                       6378   \n",
            "unique                    3                   3                          2   \n",
            "top                  Medium              Medium                        Yes   \n",
            "freq                   3251                3204                       3807   \n",
            "\n",
            "       Motivation_Level Internet_Access Family_Income Teacher_Quality  \\\n",
            "count              6378            6378          6378            6378   \n",
            "unique                3               2             3               3   \n",
            "top              Medium             Yes           Low          Medium   \n",
            "freq               3237            5893          2582            3826   \n",
            "\n",
            "       School_Type Peer_Influence Learning_Disabilities  \\\n",
            "count         6378           6378                  6378   \n",
            "unique           2              3                     2   \n",
            "top         Public       Positive                    No   \n",
            "freq          4434           2553                  5710   \n",
            "\n",
            "       Parental_Education_Level Distance_from_Home Gender  \n",
            "count                      6378               6378   6378  \n",
            "unique                        3                  3      2  \n",
            "top                 High School               Near   Male  \n",
            "freq                       3159               3801   3688  \n"
          ]
        }
      ],
      "source": [
        "# Summary statistics for non-numerical columns\n",
        "print(df.describe(include=object))"
      ]
    },
    {
      "cell_type": "code",
      "execution_count": 267,
      "metadata": {
        "colab": {
          "base_uri": "https://localhost:8080/",
          "height": 403
        },
        "id": "rS9BAGN3LcTQ",
        "outputId": "688c9641-95d8-43e8-e053-1e2d43a0630e"
      },
      "outputs": [],
      "source": [
        "# df.plot(kind='hist', subplots=True, layout=(5, 8), figsize=(50, 50))\n",
        "# plt.suptitle('Histplots of Dataset Features', fontsize=50)\n",
        "# plt.show()"
      ]
    },
    {
      "cell_type": "code",
      "execution_count": 268,
      "metadata": {
        "colab": {
          "base_uri": "https://localhost:8080/",
          "height": 1000
        },
        "id": "ZR9l5Nvakidj",
        "outputId": "91b141c4-d1d1-46dc-c4b2-5942dfb08bca"
      },
      "outputs": [],
      "source": [
        "# num_col=df.select_dtypes(include=['int64','float64'])\n",
        "# for col in num_col:\n",
        "#   sns.histplot(df[col])\n",
        "#   plt.title(f'Distribution of {col}')\n",
        "#   plt.show()\n",
        "# # sns.histplot(df['Hours_Studied'])\n",
        "# # plt.title(\"distribution of hours studied\")\n",
        "# # plt.show()\n",
        "\n"
      ]
    },
    {
      "cell_type": "markdown",
      "metadata": {
        "id": "YprW7fYNPPcF"
      },
      "source": [
        "HOURS STUDIED\n",
        "* nearly normal distribution\n",
        "* range is 0-40\n",
        "* mode is 20\n",
        "* fairly symmetric distribution\n",
        "\n",
        "ATTENDENCE\n",
        "* uniform distribution with a peak at 80\n",
        "* large no.of individuals have attendence 80 which may be due to cut-off\n",
        "\n",
        "SLEEP HOURS\n",
        "* peak at 7 hours\n",
        "* roughly bell shaped curve\n",
        "* range is 4-10\n",
        "\n",
        "PREVIOUS SCORES\n",
        "* Overall performance: The majority of students performed moderately well on the previous assessment.\n",
        "* Consistency: There was a fairly consistent level of performance among the students.\n",
        "* Lack of extreme scores: There were no significant outliers that would suggest a small group of students performed exceptionally well or poorly.\n",
        "\n",
        "\n",
        "TUTORING SESSION\n",
        "* rightly skewed\n",
        "* Peak at 1\n",
        "\n",
        "PHYSICAL ACTIVITY\n",
        "* Overall activity: The majority of individuals engage in a moderate level of physical activity.\n",
        "* Variation: There is a significant amount of variation in physical activity levels, with a small number of individuals engaging in much higher levels.\n",
        "\n",
        "\n",
        "EXAM SCORE\n",
        "* Overall performance: The majority of students performed moderately well on the exam.\n",
        "* Consistency: There was a fairly consistent level of performance among the students.\n",
        "* Lack of extreme scores: There were no significant outliers that would suggest a small group of students performed exceptionally well or poorly."
      ]
    },
    {
      "cell_type": "code",
      "execution_count": 269,
      "metadata": {
        "colab": {
          "base_uri": "https://localhost:8080/",
          "height": 472
        },
        "id": "vTyTtrE_qetc",
        "outputId": "7abdf51c-7d27-4c29-a7cd-d96b8f16567b"
      },
      "outputs": [],
      "source": [
        "# sns.barplot(x='Attendance',y='Exam_Score',data=df)\n",
        "# plt.title(\"Attendence vs Exam score\")\n",
        "# plt.show()"
      ]
    },
    {
      "cell_type": "markdown",
      "metadata": {
        "id": "cC59n0XAR0uN"
      },
      "source": [
        "# FEATURE ENCODING"
      ]
    },
    {
      "cell_type": "code",
      "execution_count": 270,
      "metadata": {
        "id": "HJeq1QzGltXK"
      },
      "outputs": [],
      "source": [
        "# Converting all the strings to numerical values using labelencoder class\n",
        "from sklearn.preprocessing import LabelEncoder\n",
        "labelencoder = LabelEncoder()\n",
        "education_mapping = {\n",
        "    'High School': 1,\n",
        "    'College': 2,\n",
        "    'Postgraduate': 3,\n",
        "}\n",
        "lmh={\n",
        "    'Low':1,\n",
        "    'Medium':2,\n",
        "    'High':3\n",
        "}\n",
        "dis={\n",
        "    'Near':1,\n",
        "    'Moderate':2,\n",
        "    'Far':3\n",
        "}\n",
        "\n",
        "peer={\n",
        "    'Positive':3,\n",
        "    'Neutral':2,\n",
        "    'Negative':1\n",
        "}\n",
        "\n",
        "df['Parental_Education_Level']=df['Parental_Education_Level'].map(education_mapping)\n",
        "df['Parental_Involvement'] =df['Parental_Involvement'].map(lmh)\n",
        "df['Access_to_Resources'] =df['Access_to_Resources'].map(lmh)\n",
        "df['Motivation_Level'] =df['Motivation_Level'].map(lmh)\n",
        "df['Family_Income']=df['Family_Income'].map(lmh)\n",
        "df['Teacher_Quality']=df['Teacher_Quality'].map(lmh)\n",
        "df['Distance_from_Home']=df['Distance_from_Home'].map( dis)\n",
        "df['Peer_Influence']=df['Peer_Influence'].map(peer)\n"
      ]
    },
    {
      "cell_type": "code",
      "execution_count": 271,
      "metadata": {},
      "outputs": [
        {
          "data": {
            "text/plain": [
              "Index(['Hours_Studied', 'Attendance', 'Parental_Involvement',\n",
              "       'Access_to_Resources', 'Extracurricular_Activities', 'Sleep_Hours',\n",
              "       'Previous_Scores', 'Motivation_Level', 'Internet_Access',\n",
              "       'Tutoring_Sessions', 'Family_Income', 'Teacher_Quality', 'School_Type',\n",
              "       'Peer_Influence', 'Physical_Activity', 'Learning_Disabilities',\n",
              "       'Parental_Education_Level', 'Distance_from_Home', 'Gender',\n",
              "       'Exam_Score'],\n",
              "      dtype='object')"
            ]
          },
          "execution_count": 271,
          "metadata": {},
          "output_type": "execute_result"
        }
      ],
      "source": [
        "df.columns"
      ]
    },
    {
      "cell_type": "code",
      "execution_count": 272,
      "metadata": {},
      "outputs": [],
      "source": [
        "\n",
        "df = pd.get_dummies(df,columns=['Extracurricular_Activities','Internet_Access','School_Type','Learning_Disabilities','Gender'],dtype=int,drop_first=True)\n"
      ]
    },
    {
      "cell_type": "code",
      "execution_count": 273,
      "metadata": {},
      "outputs": [
        {
          "data": {
            "text/plain": [
              "(6378, 20)"
            ]
          },
          "execution_count": 273,
          "metadata": {},
          "output_type": "execute_result"
        }
      ],
      "source": [
        "df.shape"
      ]
    },
    {
      "cell_type": "code",
      "execution_count": 274,
      "metadata": {},
      "outputs": [
        {
          "data": {
            "text/html": [
              "<div>\n",
              "<style scoped>\n",
              "    .dataframe tbody tr th:only-of-type {\n",
              "        vertical-align: middle;\n",
              "    }\n",
              "\n",
              "    .dataframe tbody tr th {\n",
              "        vertical-align: top;\n",
              "    }\n",
              "\n",
              "    .dataframe thead th {\n",
              "        text-align: right;\n",
              "    }\n",
              "</style>\n",
              "<table border=\"1\" class=\"dataframe\">\n",
              "  <thead>\n",
              "    <tr style=\"text-align: right;\">\n",
              "      <th></th>\n",
              "      <th>Hours_Studied</th>\n",
              "      <th>Attendance</th>\n",
              "      <th>Parental_Involvement</th>\n",
              "      <th>Access_to_Resources</th>\n",
              "      <th>Sleep_Hours</th>\n",
              "      <th>Previous_Scores</th>\n",
              "      <th>Motivation_Level</th>\n",
              "      <th>Tutoring_Sessions</th>\n",
              "      <th>Family_Income</th>\n",
              "      <th>Teacher_Quality</th>\n",
              "      <th>Peer_Influence</th>\n",
              "      <th>Physical_Activity</th>\n",
              "      <th>Parental_Education_Level</th>\n",
              "      <th>Distance_from_Home</th>\n",
              "      <th>Exam_Score</th>\n",
              "      <th>Extracurricular_Activities_Yes</th>\n",
              "      <th>Internet_Access_Yes</th>\n",
              "      <th>School_Type_Public</th>\n",
              "      <th>Learning_Disabilities_Yes</th>\n",
              "      <th>Gender_Male</th>\n",
              "    </tr>\n",
              "  </thead>\n",
              "  <tbody>\n",
              "    <tr>\n",
              "      <th>0</th>\n",
              "      <td>23</td>\n",
              "      <td>84</td>\n",
              "      <td>1</td>\n",
              "      <td>3</td>\n",
              "      <td>7</td>\n",
              "      <td>73</td>\n",
              "      <td>1</td>\n",
              "      <td>0</td>\n",
              "      <td>1</td>\n",
              "      <td>2</td>\n",
              "      <td>3</td>\n",
              "      <td>3</td>\n",
              "      <td>1</td>\n",
              "      <td>1</td>\n",
              "      <td>67</td>\n",
              "      <td>0</td>\n",
              "      <td>1</td>\n",
              "      <td>1</td>\n",
              "      <td>0</td>\n",
              "      <td>1</td>\n",
              "    </tr>\n",
              "    <tr>\n",
              "      <th>1</th>\n",
              "      <td>19</td>\n",
              "      <td>64</td>\n",
              "      <td>1</td>\n",
              "      <td>2</td>\n",
              "      <td>8</td>\n",
              "      <td>59</td>\n",
              "      <td>1</td>\n",
              "      <td>2</td>\n",
              "      <td>2</td>\n",
              "      <td>2</td>\n",
              "      <td>1</td>\n",
              "      <td>4</td>\n",
              "      <td>2</td>\n",
              "      <td>2</td>\n",
              "      <td>61</td>\n",
              "      <td>0</td>\n",
              "      <td>1</td>\n",
              "      <td>1</td>\n",
              "      <td>0</td>\n",
              "      <td>0</td>\n",
              "    </tr>\n",
              "    <tr>\n",
              "      <th>2</th>\n",
              "      <td>24</td>\n",
              "      <td>98</td>\n",
              "      <td>2</td>\n",
              "      <td>2</td>\n",
              "      <td>7</td>\n",
              "      <td>91</td>\n",
              "      <td>2</td>\n",
              "      <td>2</td>\n",
              "      <td>2</td>\n",
              "      <td>2</td>\n",
              "      <td>2</td>\n",
              "      <td>4</td>\n",
              "      <td>3</td>\n",
              "      <td>1</td>\n",
              "      <td>74</td>\n",
              "      <td>1</td>\n",
              "      <td>1</td>\n",
              "      <td>1</td>\n",
              "      <td>0</td>\n",
              "      <td>1</td>\n",
              "    </tr>\n",
              "    <tr>\n",
              "      <th>3</th>\n",
              "      <td>29</td>\n",
              "      <td>89</td>\n",
              "      <td>1</td>\n",
              "      <td>2</td>\n",
              "      <td>8</td>\n",
              "      <td>98</td>\n",
              "      <td>2</td>\n",
              "      <td>1</td>\n",
              "      <td>2</td>\n",
              "      <td>2</td>\n",
              "      <td>1</td>\n",
              "      <td>4</td>\n",
              "      <td>1</td>\n",
              "      <td>2</td>\n",
              "      <td>71</td>\n",
              "      <td>1</td>\n",
              "      <td>1</td>\n",
              "      <td>1</td>\n",
              "      <td>0</td>\n",
              "      <td>1</td>\n",
              "    </tr>\n",
              "    <tr>\n",
              "      <th>4</th>\n",
              "      <td>19</td>\n",
              "      <td>92</td>\n",
              "      <td>2</td>\n",
              "      <td>2</td>\n",
              "      <td>6</td>\n",
              "      <td>65</td>\n",
              "      <td>2</td>\n",
              "      <td>3</td>\n",
              "      <td>2</td>\n",
              "      <td>3</td>\n",
              "      <td>2</td>\n",
              "      <td>4</td>\n",
              "      <td>2</td>\n",
              "      <td>1</td>\n",
              "      <td>70</td>\n",
              "      <td>1</td>\n",
              "      <td>1</td>\n",
              "      <td>1</td>\n",
              "      <td>0</td>\n",
              "      <td>0</td>\n",
              "    </tr>\n",
              "  </tbody>\n",
              "</table>\n",
              "</div>"
            ],
            "text/plain": [
              "   Hours_Studied  Attendance  Parental_Involvement  Access_to_Resources  \\\n",
              "0             23          84                     1                    3   \n",
              "1             19          64                     1                    2   \n",
              "2             24          98                     2                    2   \n",
              "3             29          89                     1                    2   \n",
              "4             19          92                     2                    2   \n",
              "\n",
              "   Sleep_Hours  Previous_Scores  Motivation_Level  Tutoring_Sessions  \\\n",
              "0            7               73                 1                  0   \n",
              "1            8               59                 1                  2   \n",
              "2            7               91                 2                  2   \n",
              "3            8               98                 2                  1   \n",
              "4            6               65                 2                  3   \n",
              "\n",
              "   Family_Income  Teacher_Quality  Peer_Influence  Physical_Activity  \\\n",
              "0              1                2               3                  3   \n",
              "1              2                2               1                  4   \n",
              "2              2                2               2                  4   \n",
              "3              2                2               1                  4   \n",
              "4              2                3               2                  4   \n",
              "\n",
              "   Parental_Education_Level  Distance_from_Home  Exam_Score  \\\n",
              "0                         1                   1          67   \n",
              "1                         2                   2          61   \n",
              "2                         3                   1          74   \n",
              "3                         1                   2          71   \n",
              "4                         2                   1          70   \n",
              "\n",
              "   Extracurricular_Activities_Yes  Internet_Access_Yes  School_Type_Public  \\\n",
              "0                               0                    1                   1   \n",
              "1                               0                    1                   1   \n",
              "2                               1                    1                   1   \n",
              "3                               1                    1                   1   \n",
              "4                               1                    1                   1   \n",
              "\n",
              "   Learning_Disabilities_Yes  Gender_Male  \n",
              "0                          0            1  \n",
              "1                          0            0  \n",
              "2                          0            1  \n",
              "3                          0            1  \n",
              "4                          0            0  "
            ]
          },
          "execution_count": 274,
          "metadata": {},
          "output_type": "execute_result"
        }
      ],
      "source": [
        "df.head()"
      ]
    },
    {
      "cell_type": "code",
      "execution_count": 275,
      "metadata": {
        "colab": {
          "base_uri": "https://localhost:8080/",
          "height": 858
        },
        "id": "o0noZksGR7Xa",
        "outputId": "25949208-67b8-4531-cf17-b832dda609d7"
      },
      "outputs": [
        {
          "data": {
            "image/png": "[encoded data removed]",
            "text/plain": [
              "<Figure size 600x600 with 2 Axes>"
            ]
          },
          "metadata": {},
          "output_type": "display_data"
        }
      ],
      "source": [
        "# num_col=df.select_dtypes(include=['int64','float64'])\n",
        "df1=df[['Hours_Studied','Attendance','Sleep_Hours','Previous_Scores','Tutoring_Sessions','Physical_Activity','Exam_Score']]\n",
        "cor_matrix=df1.corr()\n",
        "plt.figure(figsize=(6,6))\n",
        "sns.heatmap(cor_matrix,vmin=-1,vmax=1,cmap=\"coolwarm\",annot=True,fmt='0.2f',robust=True)\n",
        "plt.title(\"Correlation matrix\")\n",
        "plt.show()"
      ]
    },
    {
      "cell_type": "code",
      "execution_count": 169,
      "metadata": {},
      "outputs": [
        {
          "name": "stdout",
          "output_type": "stream",
          "text": [
            "           VIF                         feature\n",
            "0    18.518615                   Hours_Studied\n",
            "1   100.403683                      Attendance\n",
            "2    11.109025            Parental_Involvement\n",
            "3    11.196775             Access_to_Resources\n",
            "4    22.586142                     Sleep_Hours\n",
            "5    31.551010                 Previous_Scores\n",
            "6     8.812910                Motivation_Level\n",
            "7     2.636450               Tutoring_Sessions\n",
            "8     7.050185                   Family_Income\n",
            "9    14.667056                 Teacher_Quality\n",
            "10    9.749073                  Peer_Influence\n",
            "11    9.369365               Physical_Activity\n",
            "12    5.986087        Parental_Education_Level\n",
            "13    5.886061              Distance_from_Home\n",
            "14  520.714952                      Exam_Score\n",
            "15    2.525386  Extracurricular_Activities_Yes\n",
            "16   13.271618             Internet_Access_Yes\n",
            "17    3.270577              School_Type_Public\n",
            "18    1.123398       Learning_Disabilities_Yes\n",
            "19    2.365742                     Gender_Male\n"
          ]
        }
      ],
      "source": [
        "from statsmodels.stats.outliers_influence import variance_inflation_factor\n",
        "vif=pd.DataFrame()\n",
        "vif['VIF']=[variance_inflation_factor(df.values,i)for i in range (df.shape[1])]\n",
        "vif['feature']=df.columns\n",
        "print(vif)"
      ]
    },
    {
      "cell_type": "code",
      "execution_count": 277,
      "metadata": {},
      "outputs": [
        {
          "data": {
            "image/png": "[encoded data removed]",
            "text/plain": [
              "<Figure size 1000x600 with 1 Axes>"
            ]
          },
          "metadata": {},
          "output_type": "display_data"
        }
      ],
      "source": [
        "plt.figure(figsize=(10, 6))\n",
        "sns.barplot(x=\"VIF\", y=\"feature\", data=vif, palette=\"viridis\")\n",
        "plt.title(\"VIF Scores for Features\")\n",
        "plt.xlabel(\"VIF\")\n",
        "plt.ylabel(\"Feature\")\n",
        "plt.show()\n"
      ]
    },
    {
      "cell_type": "markdown",
      "metadata": {
        "id": "d14y2MIRklIi"
      },
      "source": [
        "# OUTLIER DETECTION"
      ]
    },
    {
      "cell_type": "code",
      "execution_count": 100,
      "metadata": {
        "colab": {
          "base_uri": "https://localhost:8080/",
          "height": 472
        },
        "id": "8-2wGMG2kfuM",
        "outputId": "502518c0-7b94-4566-e1a9-10e2f07b59e2"
      },
      "outputs": [
        {
          "data": {
            "image/png": "[encoded data removed]",
            "text/plain": [
              "<Figure size 640x480 with 1 Axes>"
            ]
          },
          "metadata": {},
          "output_type": "display_data"
        }
      ],
      "source": [
        "# Visual detection of outliers using a box plot\n",
        "sns.boxplot(x=df['Hours_Studied'])\n",
        "plt.title('Box Plot of Hours_Studied')\n",
        "plt.show()"
      ]
    },
    {
      "cell_type": "code",
      "execution_count": 278,
      "metadata": {
        "colab": {
          "base_uri": "https://localhost:8080/",
          "height": 1000
        },
        "id": "q8lgZB7yVoqK",
        "outputId": "a5d149f5-d433-4b4b-911b-cf8aaf6bb5c3"
      },
      "outputs": [
        {
          "data": {
            "image/png": "[encoded data removed]",
            "text/plain": [
              "<Figure size 3000x8000 with 40 Axes>"
            ]
          },
          "metadata": {},
          "output_type": "display_data"
        }
      ],
      "source": [
        "df1.plot(kind='box', subplots=True, layout=(8, 5), figsize=(30, 80), color='red')\n",
        "plt.title('Boxplots of Dataset Features')\n",
        "plt.show()"
      ]
    },
    {
      "cell_type": "code",
      "execution_count": 280,
      "metadata": {},
      "outputs": [
        {
          "data": {
            "text/plain": [
              "Hours_Studied\n",
              "20    448\n",
              "19    425\n",
              "21    420\n",
              "18    393\n",
              "23    389\n",
              "22    386\n",
              "17    370\n",
              "24    343\n",
              "16    337\n",
              "15    303\n",
              "25    281\n",
              "14    257\n",
              "26    255\n",
              "27    217\n",
              "13    213\n",
              "12    189\n",
              "28    169\n",
              "11    140\n",
              "29    131\n",
              "30    119\n",
              "10     91\n",
              "9      79\n",
              "31     75\n",
              "8      55\n",
              "32     54\n",
              "7      51\n",
              "33     37\n",
              "34     27\n",
              "5      21\n",
              "35     20\n",
              "6      17\n",
              "4      16\n",
              "3      12\n",
              "36     10\n",
              "38      7\n",
              "37      6\n",
              "39      6\n",
              "2       4\n",
              "1       3\n",
              "43      1\n",
              "44      1\n",
              "Name: count, dtype: int64"
            ]
          },
          "execution_count": 280,
          "metadata": {},
          "output_type": "execute_result"
        }
      ],
      "source": [
        "df['Hours_Studied'].value_counts()"
      ]
    },
    {
      "cell_type": "code",
      "execution_count": 183,
      "metadata": {},
      "outputs": [
        {
          "data": {
            "text/plain": [
              "Hours_Studied                     0.016225\n",
              "Attendance                        0.005663\n",
              "Parental_Involvement             -0.116175\n",
              "Access_to_Resources              -0.136403\n",
              "Sleep_Hours                      -0.026814\n",
              "Previous_Scores                  -0.001362\n",
              "Motivation_Level                  0.125891\n",
              "Tutoring_Sessions                 0.825261\n",
              "Family_Income                     0.362800\n",
              "Teacher_Quality                  -0.111383\n",
              "Peer_Influence                   -0.333762\n",
              "Physical_Activity                -0.037055\n",
              "Parental_Education_Level          0.566676\n",
              "Distance_from_Home                0.979431\n",
              "Exam_Score                        1.665831\n",
              "Extracurricular_Activities_Yes   -0.395165\n",
              "Internet_Access_Yes              -3.199630\n",
              "School_Type_Public               -0.848312\n",
              "Learning_Disabilities_Yes         2.582253\n",
              "Gender_Male                      -0.316928\n",
              "dtype: float64"
            ]
          },
          "execution_count": 183,
          "metadata": {},
          "output_type": "execute_result"
        }
      ],
      "source": [
        "df.skew()"
      ]
    },
    {
      "cell_type": "code",
      "execution_count": 102,
      "metadata": {
        "colab": {
          "base_uri": "https://localhost:8080/"
        },
        "id": "r541LfLJV87a",
        "outputId": "68aa0a68-c94e-428d-8410-096c685cb9a0"
      },
      "outputs": [
        {
          "name": "stdout",
          "output_type": "stream",
          "text": [
            "Shape of data before removing outliers: (6378, 20)\n",
            "Shape of data after removing outliers: (5915, 20)\n",
            "Number of outliers removed: 463\n"
          ]
        }
      ],
      "source": [
        "# Function to remove outliers using IQR for all numerical columns\n",
        "def remove_all_outliers_iqr(df, columns):\n",
        "    df_out = df.copy()  # Create a copy of the DataFrame to avoid modifying the original data\n",
        "\n",
        "    for column in columns:\n",
        "        Q1 = df_out[column].quantile(0.25)  # First quartile (25th percentile)\n",
        "        Q3 = df_out[column].quantile(0.75)  # Third quartile (75th percentile)\n",
        "        IQR = Q3 - Q1  # Interquartile range\n",
        "\n",
        "        # Define the lower and upper bounds for outliers\n",
        "        lower_bound = Q1 - 1.5 * IQR\n",
        "        upper_bound = Q3 + 1.5 * IQR\n",
        "\n",
        "        # Remove outliers from the dataset\n",
        "        df_out = df_out[(df_out[column] >= lower_bound) & (df_out[column] <= upper_bound)]\n",
        "\n",
        "    return df_out\n",
        "\n",
        "# Select numerical columns (you can also explicitly specify them)\n",
        "numerical_columns = df.select_dtypes(include=['number']).columns\n",
        "\n",
        "# Apply the function to remove outliers\n",
        "df_no_outliers = remove_all_outliers_iqr(df, ['Hours_Studied','Tutoring_Sessions'])\n",
        "\n",
        "# Print shapes of data before and after removing outliers\n",
        "print(\"Shape of data before removing outliers:\", df.shape)\n",
        "print(\"Shape of data after removing outliers:\", df_no_outliers.shape)\n",
        "print(\"Number of outliers removed:\", df.shape[0] - df_no_outliers.shape[0])"
      ]
    },
    {
      "cell_type": "markdown",
      "metadata": {
        "id": "7ZAqsN3qlKaZ"
      },
      "source": [
        "# FEATURE ENGINEERING"
      ]
    },
    {
      "cell_type": "code",
      "execution_count": 103,
      "metadata": {
        "id": "1xXHeyd0lG9B"
      },
      "outputs": [],
      "source": [
        "# Create a new feature 'family_size'\n",
        "df['improved_percentage'] = ((df['Exam_Score'] - df['Previous_Scores'])/df['Previous_Scores'])*100"
      ]
    },
    {
      "cell_type": "code",
      "execution_count": 104,
      "metadata": {
        "colab": {
          "base_uri": "https://localhost:8080/",
          "height": 443
        },
        "id": "9UlvA03ylk72",
        "outputId": "f0c9b0cd-f4ce-43d3-eb75-a93aa5558bea"
      },
      "outputs": [
        {
          "data": {
            "text/html": [
              "<div>\n",
              "<style scoped>\n",
              "    .dataframe tbody tr th:only-of-type {\n",
              "        vertical-align: middle;\n",
              "    }\n",
              "\n",
              "    .dataframe tbody tr th {\n",
              "        vertical-align: top;\n",
              "    }\n",
              "\n",
              "    .dataframe thead th {\n",
              "        text-align: right;\n",
              "    }\n",
              "</style>\n",
              "<table border=\"1\" class=\"dataframe\">\n",
              "  <thead>\n",
              "    <tr style=\"text-align: right;\">\n",
              "      <th></th>\n",
              "      <th>Hours_Studied</th>\n",
              "      <th>Attendance</th>\n",
              "      <th>Parental_Involvement</th>\n",
              "      <th>Access_to_Resources</th>\n",
              "      <th>Extracurricular_Activities</th>\n",
              "      <th>Sleep_Hours</th>\n",
              "      <th>Previous_Scores</th>\n",
              "      <th>Motivation_Level</th>\n",
              "      <th>Internet_Access</th>\n",
              "      <th>Tutoring_Sessions</th>\n",
              "      <th>Family_Income</th>\n",
              "      <th>Teacher_Quality</th>\n",
              "      <th>School_Type</th>\n",
              "      <th>Peer_Influence</th>\n",
              "      <th>Physical_Activity</th>\n",
              "      <th>Learning_Disabilities</th>\n",
              "      <th>Parental_Education_Level</th>\n",
              "      <th>Distance_from_Home</th>\n",
              "      <th>Gender</th>\n",
              "      <th>Exam_Score</th>\n",
              "    </tr>\n",
              "  </thead>\n",
              "  <tbody>\n",
              "    <tr>\n",
              "      <th>0</th>\n",
              "      <td>23</td>\n",
              "      <td>84</td>\n",
              "      <td>1</td>\n",
              "      <td>3</td>\n",
              "      <td>0</td>\n",
              "      <td>7</td>\n",
              "      <td>73</td>\n",
              "      <td>1</td>\n",
              "      <td>1</td>\n",
              "      <td>0</td>\n",
              "      <td>1</td>\n",
              "      <td>2</td>\n",
              "      <td>1</td>\n",
              "      <td>2</td>\n",
              "      <td>3</td>\n",
              "      <td>0</td>\n",
              "      <td>1</td>\n",
              "      <td>1</td>\n",
              "      <td>1</td>\n",
              "      <td>67</td>\n",
              "    </tr>\n",
              "    <tr>\n",
              "      <th>1</th>\n",
              "      <td>19</td>\n",
              "      <td>64</td>\n",
              "      <td>1</td>\n",
              "      <td>2</td>\n",
              "      <td>0</td>\n",
              "      <td>8</td>\n",
              "      <td>59</td>\n",
              "      <td>1</td>\n",
              "      <td>1</td>\n",
              "      <td>2</td>\n",
              "      <td>2</td>\n",
              "      <td>2</td>\n",
              "      <td>1</td>\n",
              "      <td>0</td>\n",
              "      <td>4</td>\n",
              "      <td>0</td>\n",
              "      <td>2</td>\n",
              "      <td>2</td>\n",
              "      <td>0</td>\n",
              "      <td>61</td>\n",
              "    </tr>\n",
              "    <tr>\n",
              "      <th>2</th>\n",
              "      <td>24</td>\n",
              "      <td>98</td>\n",
              "      <td>2</td>\n",
              "      <td>2</td>\n",
              "      <td>1</td>\n",
              "      <td>7</td>\n",
              "      <td>91</td>\n",
              "      <td>2</td>\n",
              "      <td>1</td>\n",
              "      <td>2</td>\n",
              "      <td>2</td>\n",
              "      <td>2</td>\n",
              "      <td>1</td>\n",
              "      <td>1</td>\n",
              "      <td>4</td>\n",
              "      <td>0</td>\n",
              "      <td>3</td>\n",
              "      <td>1</td>\n",
              "      <td>1</td>\n",
              "      <td>74</td>\n",
              "    </tr>\n",
              "    <tr>\n",
              "      <th>3</th>\n",
              "      <td>29</td>\n",
              "      <td>89</td>\n",
              "      <td>1</td>\n",
              "      <td>2</td>\n",
              "      <td>1</td>\n",
              "      <td>8</td>\n",
              "      <td>98</td>\n",
              "      <td>2</td>\n",
              "      <td>1</td>\n",
              "      <td>1</td>\n",
              "      <td>2</td>\n",
              "      <td>2</td>\n",
              "      <td>1</td>\n",
              "      <td>0</td>\n",
              "      <td>4</td>\n",
              "      <td>0</td>\n",
              "      <td>1</td>\n",
              "      <td>2</td>\n",
              "      <td>1</td>\n",
              "      <td>71</td>\n",
              "    </tr>\n",
              "    <tr>\n",
              "      <th>4</th>\n",
              "      <td>19</td>\n",
              "      <td>92</td>\n",
              "      <td>2</td>\n",
              "      <td>2</td>\n",
              "      <td>1</td>\n",
              "      <td>6</td>\n",
              "      <td>65</td>\n",
              "      <td>2</td>\n",
              "      <td>1</td>\n",
              "      <td>3</td>\n",
              "      <td>2</td>\n",
              "      <td>3</td>\n",
              "      <td>1</td>\n",
              "      <td>1</td>\n",
              "      <td>4</td>\n",
              "      <td>0</td>\n",
              "      <td>2</td>\n",
              "      <td>1</td>\n",
              "      <td>0</td>\n",
              "      <td>70</td>\n",
              "    </tr>\n",
              "    <tr>\n",
              "      <th>...</th>\n",
              "      <td>...</td>\n",
              "      <td>...</td>\n",
              "      <td>...</td>\n",
              "      <td>...</td>\n",
              "      <td>...</td>\n",
              "      <td>...</td>\n",
              "      <td>...</td>\n",
              "      <td>...</td>\n",
              "      <td>...</td>\n",
              "      <td>...</td>\n",
              "      <td>...</td>\n",
              "      <td>...</td>\n",
              "      <td>...</td>\n",
              "      <td>...</td>\n",
              "      <td>...</td>\n",
              "      <td>...</td>\n",
              "      <td>...</td>\n",
              "      <td>...</td>\n",
              "      <td>...</td>\n",
              "      <td>...</td>\n",
              "    </tr>\n",
              "    <tr>\n",
              "      <th>6602</th>\n",
              "      <td>25</td>\n",
              "      <td>69</td>\n",
              "      <td>3</td>\n",
              "      <td>2</td>\n",
              "      <td>0</td>\n",
              "      <td>7</td>\n",
              "      <td>76</td>\n",
              "      <td>2</td>\n",
              "      <td>1</td>\n",
              "      <td>1</td>\n",
              "      <td>3</td>\n",
              "      <td>2</td>\n",
              "      <td>1</td>\n",
              "      <td>2</td>\n",
              "      <td>2</td>\n",
              "      <td>0</td>\n",
              "      <td>1</td>\n",
              "      <td>1</td>\n",
              "      <td>0</td>\n",
              "      <td>68</td>\n",
              "    </tr>\n",
              "    <tr>\n",
              "      <th>6603</th>\n",
              "      <td>23</td>\n",
              "      <td>76</td>\n",
              "      <td>3</td>\n",
              "      <td>2</td>\n",
              "      <td>0</td>\n",
              "      <td>8</td>\n",
              "      <td>81</td>\n",
              "      <td>2</td>\n",
              "      <td>1</td>\n",
              "      <td>3</td>\n",
              "      <td>1</td>\n",
              "      <td>3</td>\n",
              "      <td>1</td>\n",
              "      <td>2</td>\n",
              "      <td>2</td>\n",
              "      <td>0</td>\n",
              "      <td>1</td>\n",
              "      <td>1</td>\n",
              "      <td>0</td>\n",
              "      <td>69</td>\n",
              "    </tr>\n",
              "    <tr>\n",
              "      <th>6604</th>\n",
              "      <td>20</td>\n",
              "      <td>90</td>\n",
              "      <td>2</td>\n",
              "      <td>1</td>\n",
              "      <td>1</td>\n",
              "      <td>6</td>\n",
              "      <td>65</td>\n",
              "      <td>1</td>\n",
              "      <td>1</td>\n",
              "      <td>3</td>\n",
              "      <td>1</td>\n",
              "      <td>2</td>\n",
              "      <td>1</td>\n",
              "      <td>0</td>\n",
              "      <td>2</td>\n",
              "      <td>0</td>\n",
              "      <td>3</td>\n",
              "      <td>1</td>\n",
              "      <td>0</td>\n",
              "      <td>68</td>\n",
              "    </tr>\n",
              "    <tr>\n",
              "      <th>6605</th>\n",
              "      <td>10</td>\n",
              "      <td>86</td>\n",
              "      <td>3</td>\n",
              "      <td>3</td>\n",
              "      <td>1</td>\n",
              "      <td>6</td>\n",
              "      <td>91</td>\n",
              "      <td>3</td>\n",
              "      <td>1</td>\n",
              "      <td>2</td>\n",
              "      <td>1</td>\n",
              "      <td>2</td>\n",
              "      <td>0</td>\n",
              "      <td>2</td>\n",
              "      <td>3</td>\n",
              "      <td>0</td>\n",
              "      <td>1</td>\n",
              "      <td>3</td>\n",
              "      <td>0</td>\n",
              "      <td>68</td>\n",
              "    </tr>\n",
              "    <tr>\n",
              "      <th>6606</th>\n",
              "      <td>15</td>\n",
              "      <td>67</td>\n",
              "      <td>2</td>\n",
              "      <td>1</td>\n",
              "      <td>1</td>\n",
              "      <td>9</td>\n",
              "      <td>94</td>\n",
              "      <td>2</td>\n",
              "      <td>1</td>\n",
              "      <td>0</td>\n",
              "      <td>2</td>\n",
              "      <td>2</td>\n",
              "      <td>1</td>\n",
              "      <td>2</td>\n",
              "      <td>4</td>\n",
              "      <td>0</td>\n",
              "      <td>3</td>\n",
              "      <td>1</td>\n",
              "      <td>1</td>\n",
              "      <td>64</td>\n",
              "    </tr>\n",
              "  </tbody>\n",
              "</table>\n",
              "<p>5915 rows × 20 columns</p>\n",
              "</div>"
            ],
            "text/plain": [
              "      Hours_Studied  Attendance  Parental_Involvement  Access_to_Resources  \\\n",
              "0                23          84                     1                    3   \n",
              "1                19          64                     1                    2   \n",
              "2                24          98                     2                    2   \n",
              "3                29          89                     1                    2   \n",
              "4                19          92                     2                    2   \n",
              "...             ...         ...                   ...                  ...   \n",
              "6602             25          69                     3                    2   \n",
              "6603             23          76                     3                    2   \n",
              "6604             20          90                     2                    1   \n",
              "6605             10          86                     3                    3   \n",
              "6606             15          67                     2                    1   \n",
              "\n",
              "      Extracurricular_Activities  Sleep_Hours  Previous_Scores  \\\n",
              "0                              0            7               73   \n",
              "1                              0            8               59   \n",
              "2                              1            7               91   \n",
              "3                              1            8               98   \n",
              "4                              1            6               65   \n",
              "...                          ...          ...              ...   \n",
              "6602                           0            7               76   \n",
              "6603                           0            8               81   \n",
              "6604                           1            6               65   \n",
              "6605                           1            6               91   \n",
              "6606                           1            9               94   \n",
              "\n",
              "      Motivation_Level  Internet_Access  Tutoring_Sessions  Family_Income  \\\n",
              "0                    1                1                  0              1   \n",
              "1                    1                1                  2              2   \n",
              "2                    2                1                  2              2   \n",
              "3                    2                1                  1              2   \n",
              "4                    2                1                  3              2   \n",
              "...                ...              ...                ...            ...   \n",
              "6602                 2                1                  1              3   \n",
              "6603                 2                1                  3              1   \n",
              "6604                 1                1                  3              1   \n",
              "6605                 3                1                  2              1   \n",
              "6606                 2                1                  0              2   \n",
              "\n",
              "      Teacher_Quality  School_Type  Peer_Influence  Physical_Activity  \\\n",
              "0                   2            1               2                  3   \n",
              "1                   2            1               0                  4   \n",
              "2                   2            1               1                  4   \n",
              "3                   2            1               0                  4   \n",
              "4                   3            1               1                  4   \n",
              "...               ...          ...             ...                ...   \n",
              "6602                2            1               2                  2   \n",
              "6603                3            1               2                  2   \n",
              "6604                2            1               0                  2   \n",
              "6605                2            0               2                  3   \n",
              "6606                2            1               2                  4   \n",
              "\n",
              "      Learning_Disabilities  Parental_Education_Level  Distance_from_Home  \\\n",
              "0                         0                         1                   1   \n",
              "1                         0                         2                   2   \n",
              "2                         0                         3                   1   \n",
              "3                         0                         1                   2   \n",
              "4                         0                         2                   1   \n",
              "...                     ...                       ...                 ...   \n",
              "6602                      0                         1                   1   \n",
              "6603                      0                         1                   1   \n",
              "6604                      0                         3                   1   \n",
              "6605                      0                         1                   3   \n",
              "6606                      0                         3                   1   \n",
              "\n",
              "      Gender  Exam_Score  \n",
              "0          1          67  \n",
              "1          0          61  \n",
              "2          1          74  \n",
              "3          1          71  \n",
              "4          0          70  \n",
              "...      ...         ...  \n",
              "6602       0          68  \n",
              "6603       0          69  \n",
              "6604       0          68  \n",
              "6605       0          68  \n",
              "6606       1          64  \n",
              "\n",
              "[5915 rows x 20 columns]"
            ]
          },
          "execution_count": 104,
          "metadata": {},
          "output_type": "execute_result"
        }
      ],
      "source": [
        "df_no_outliers"
      ]
    },
    {
      "cell_type": "code",
      "execution_count": 105,
      "metadata": {},
      "outputs": [],
      "source": [
        "# importing required libraries for model prediction\n",
        "from sklearn.linear_model import LinearRegression\n",
        "from sklearn.model_selection import train_test_split\n",
        "from sklearn.metrics import mean_squared_error, r2_score,root_mean_squared_error,mean_absolute_error"
      ]
    },
    {
      "cell_type": "code",
      "execution_count": null,
      "metadata": {},
      "outputs": [],
      "source": [
        "# Define features and target variable\n",
        "x=df_no_outliers.drop('Exam_Score',axis=1)\n",
        "y=df_no_outliers['Exam_Score']"
      ]
    },
    {
      "cell_type": "code",
      "execution_count": 108,
      "metadata": {
        "id": "xP9GVvBwuA-l"
      },
      "outputs": [],
      "source": [
        "from sklearn.preprocessing import MinMaxScaler\n",
        "minmax_scaler = MinMaxScaler()\n",
        "x_scaled = minmax_scaler.fit_transform(x)"
      ]
    },
    {
      "cell_type": "markdown",
      "metadata": {
        "id": "ACp6YPM3uo_h"
      },
      "source": [
        "# INITIAL MODELLING"
      ]
    },
    {
      "cell_type": "code",
      "execution_count": 128,
      "metadata": {
        "colab": {
          "base_uri": "https://localhost:8080/"
        },
        "id": "KC_W_7EcuxE_",
        "outputId": "658f778c-cbdd-4f68-91f5-a013eb2cffdd"
      },
      "outputs": [
        {
          "name": "stdout",
          "output_type": "stream",
          "text": [
            "Mean Squared Error: 5.855398878930449\n",
            "R-squared: 0.64041454513146\n",
            "Rmse:2.4197931479633645\n"
          ]
        }
      ],
      "source": [
        "# Split the data into training and testing sets\n",
        "X_train, X_test, y_train, y_test = train_test_split(x_scaled, y, test_size=0.2, random_state=42)\n",
        "\n",
        "# Train a baseline logistic regression model\n",
        "model = LinearRegression()\n",
        "model.fit(X_train, y_train)\n",
        "\n",
        "# Predict and evaluate the model\n",
        "y_pred = model.predict(X_test)\n",
        "mse = mean_squared_error(y_test, y_pred)\n",
        "r2 = r2_score(y_test, y_pred)\n",
        "rmse=root_mean_squared_error(y_test,y_pred)\n",
        "print(f'Mean Squared Error: {mse}')\n",
        "print(f'R-squared: {r2}')\n",
        "print(f'Rmse:{rmse}')\n"
      ]
    },
    {
      "cell_type": "code",
      "execution_count": 125,
      "metadata": {},
      "outputs": [
        {
          "data": {
            "text/plain": [
              "(5915, 19)"
            ]
          },
          "execution_count": 125,
          "metadata": {},
          "output_type": "execute_result"
        }
      ],
      "source": [
        "x_scaled.shape"
      ]
    },
    {
      "cell_type": "code",
      "execution_count": 127,
      "metadata": {},
      "outputs": [
        {
          "data": {
            "text/plain": [
              "(5915,)"
            ]
          },
          "execution_count": 127,
          "metadata": {},
          "output_type": "execute_result"
        }
      ],
      "source": [
        "y.shape"
      ]
    },
    {
      "cell_type": "code",
      "execution_count": 130,
      "metadata": {},
      "outputs": [
        {
          "data": {
            "text/plain": [
              "Index(['Hours_Studied', 'Attendance', 'Parental_Involvement',\n",
              "       'Access_to_Resources', 'Extracurricular_Activities', 'Sleep_Hours',\n",
              "       'Previous_Scores', 'Motivation_Level', 'Internet_Access',\n",
              "       'Tutoring_Sessions', 'Family_Income', 'Teacher_Quality', 'School_Type',\n",
              "       'Peer_Influence', 'Physical_Activity', 'Learning_Disabilities',\n",
              "       'Parental_Education_Level', 'Distance_from_Home', 'Gender',\n",
              "       'Exam_Score', 'improved_percentage'],\n",
              "      dtype='object')"
            ]
          },
          "execution_count": 130,
          "metadata": {},
          "output_type": "execute_result"
        }
      ],
      "source": [
        "df.columns"
      ]
    },
    {
      "cell_type": "code",
      "execution_count": 129,
      "metadata": {},
      "outputs": [
        {
          "name": "stdout",
          "output_type": "stream",
          "text": [
            "[ 1  1  1  1  8 11  1  1  5  1  3  1  9  1  2  7  4  6 10]\n",
            "[ True  True  True  True False False  True  True False  True False  True\n",
            " False  True False False False False False]\n"
          ]
        }
      ],
      "source": [
        "from sklearn.feature_selection import RFE\n",
        "s=RFE(model,step=1)\n",
        "s=s.fit(x_scaled,y)\n",
        "print(s.ranking_)\n",
        "print(s.support_)\n",
        "\n"
      ]
    },
    {
      "cell_type": "code",
      "execution_count": 110,
      "metadata": {
        "id": "rMTf5gaHoee6"
      },
      "outputs": [],
      "source": [
        "# Regression algorithms\n",
        "from sklearn.linear_model import LinearRegression, Ridge, Lasso, ElasticNet\n",
        "from sklearn.tree import DecisionTreeRegressor\n",
        "from sklearn.ensemble import RandomForestRegressor, GradientBoostingRegressor\n",
        "from sklearn.svm import SVR\n",
        "from sklearn.neighbors import KNeighborsRegressor\n",
        "from sklearn.neural_network import MLPRegressor  # Multi-layer perceptron regressor (MLP)\n",
        "models = {\n",
        "    \"Linear Regression\": LinearRegression(),\n",
        "    \"Ridge Regression\": Ridge(),\n",
        "    \"Lasso Regression\": Lasso(),\n",
        "    \"ElasticNet Regression\": ElasticNet(),\n",
        "    \"Decision Tree\": DecisionTreeRegressor(),\n",
        "    \"Random Forest\": RandomForestRegressor(),\n",
        "    \"Gradient Boosting\": GradientBoostingRegressor(),\n",
        "    \"Support Vector Regressor\": SVR(),\n",
        "    \"K-Nearest Neighbors\": KNeighborsRegressor(),\n",
        "    \"Neural Network\": MLPRegressor(max_iter=1000)\n",
        "}"
      ]
    },
    {
      "cell_type": "code",
      "execution_count": 111,
      "metadata": {
        "id": "jwWC5I0QofiO"
      },
      "outputs": [],
      "source": [
        "# Function to evaluate model performance\n",
        "def evaluate_model(y_true, y_pred):\n",
        "    mae = mean_absolute_error(y_true, y_pred)\n",
        "    rmse = np.sqrt(mean_squared_error(y_true, y_pred))\n",
        "    r2 = r2_score(y_true, y_pred)\n",
        "    return mae, rmse, r2\n",
        "\n",
        "results={}"
      ]
    },
    {
      "cell_type": "code",
      "execution_count": 115,
      "metadata": {},
      "outputs": [],
      "source": [
        "import numpy as np"
      ]
    },
    {
      "cell_type": "code",
      "execution_count": 116,
      "metadata": {
        "id": "C6PUK0GsoloH"
      },
      "outputs": [],
      "source": [
        "# Apply each model and compute metrics\n",
        "for name, model in models.items(): # When you call items() on a dictionary, returns a list of the dictionary’s key-value tuple pairs.\n",
        "                                   # Here \"name\" represents the \"key\", and \"model\" represents the \"value\"\n",
        "  if name in [\"Support Vector Regressor\", \"Neural Network\"]: # Standardised value is only applied to support vector regressor and Neural network\n",
        "        # Apply scaling for models that need it\n",
        "        model.fit(X_train, y_train)\n",
        "        y_pred = model.predict(X_test)\n",
        "  else:\n",
        "        model.fit(X_train, y_train)\n",
        "        y_pred = model.predict(X_test)\n",
        "\n",
        "        # Compute evaluation metrics\n",
        "  mae, rmse, r2 = evaluate_model(y_test, y_pred)\n",
        "  results[name] = {\"MAE\": mae, \"RMSE\": rmse, \"R²\": r2} # name represents the \"key\" of the dictionary. Here key is the name of the algorithms\n",
        "  # In the new dictionary \"results\", the key is the name of the algorithm; and the \"key\" is the MAE, RMSE,and R2 values\n",
        "  # results[name] will be the different key when the name of the algorithm changes"
      ]
    },
    {
      "cell_type": "code",
      "execution_count": 119,
      "metadata": {},
      "outputs": [
        {
          "name": "stdout",
          "output_type": "stream",
          "text": [
            "                               MAE      RMSE        R²\n",
            "Linear Regression         0.543558  2.419793  0.640415\n",
            "Ridge Regression          0.543783  2.419247  0.640577\n",
            "Lasso Regression          2.890615  4.036054 -0.000367\n",
            "ElasticNet Regression     2.846296  3.995777  0.019499\n",
            "Decision Tree             1.795435  3.691850  0.162984\n",
            "Random Forest             1.171285  2.672280  0.561460\n",
            "Gradient Boosting         0.905615  2.532150  0.606247\n",
            "Support Vector Regressor  0.633459  2.453374  0.630365\n",
            "K-Nearest Neighbors       2.065934  3.326646  0.320391\n",
            "Neural Network            0.566245  2.425429  0.638738\n"
          ]
        }
      ],
      "source": [
        "print(pd.DataFrame(results).T)"
      ]
    },
    {
      "cell_type": "markdown",
      "metadata": {
        "id": "mYxqEfwhSa_s"
      },
      "source": [
        "# **STEP-11 DOCUMENTATION AND REPORTING**"
      ]
    },
    {
      "cell_type": "code",
      "execution_count": 47,
      "metadata": {
        "colab": {
          "base_uri": "https://localhost:8080/"
        },
        "id": "1y6sM2mSS0or",
        "outputId": "12a19f79-a63d-4db9-b8d8-63053abef2f3"
      },
      "outputs": [
        {
          "name": "stdout",
          "output_type": "stream",
          "text": [
            "EDA Summary:\n",
            "Dataset Shape: (6607, 28)\n",
            "Missing Values: 0\n"
          ]
        }
      ],
      "source": [
        "# Summarize key findings\n",
        "summary = {\n",
        "    'Dataset Shape': df.shape,\n",
        "    'Missing Values': df.isnull().sum().sum()\n",
        "}\n",
        "print(\"EDA Summary:\")\n",
        "for key, value in summary.items():\n",
        "    print(f\"{key}: {value}\")"
      ]
    },
    {
      "cell_type": "code",
      "execution_count": 48,
      "metadata": {
        "colab": {
          "base_uri": "https://localhost:8080/"
        },
        "id": "zFrxF4pJot14",
        "outputId": "793835c7-e4cf-4156-fc68-2e0d56f1d8a3"
      },
      "outputs": [],
      "source": [
        "# # Convert results to a DataFrame for better visualization\n",
        "# results_df = pd.DataFrame(results).T\n",
        "# print(results_df)"
      ]
    },
    {
      "cell_type": "code",
      "execution_count": null,
      "metadata": {
        "id": "Ze-LbIi8WXOJ"
      },
      "outputs": [],
      "source": []
    }
  ],
  "metadata": {
    "colab": {
      "provenance": []
    },
    "kernelspec": {
      "display_name": "base",
      "language": "python",
      "name": "python3"
    },
    "language_info": {
      "codemirror_mode": {
        "name": "ipython",
        "version": 3
      },
      "file_extension": ".py",
      "mimetype": "text/x-python",
      "name": "python",
      "nbconvert_exporter": "python",
      "pygments_lexer": "ipython3",
      "version": "3.12.4"
    }
  },
  "nbformat": 4,
  "nbformat_minor": 0
}
